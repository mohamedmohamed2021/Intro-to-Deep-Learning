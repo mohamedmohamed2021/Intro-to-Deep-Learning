{
 "cells": [
  {
   "cell_type": "markdown",
   "id": "929f136f",
   "metadata": {
    "papermill": {
     "duration": 0.006335,
     "end_time": "2022-07-27T12:13:50.504173",
     "exception": false,
     "start_time": "2022-07-27T12:13:50.497838",
     "status": "completed"
    },
    "tags": []
   },
   "source": [
    "**This notebook is an exercise in the [Intro to Deep Learning](https://www.kaggle.com/learn/intro-to-deep-learning) course.  You can reference the tutorial at [this link](https://www.kaggle.com/ryanholbrook/overfitting-and-underfitting).**\n",
    "\n",
    "---\n"
   ]
  },
  {
   "cell_type": "markdown",
   "id": "6e7b61c3",
   "metadata": {
    "papermill": {
     "duration": 0.005678,
     "end_time": "2022-07-27T12:13:50.515508",
     "exception": false,
     "start_time": "2022-07-27T12:13:50.509830",
     "status": "completed"
    },
    "tags": []
   },
   "source": [
    "# Introduction #\n",
    "\n",
    "In this exercise, you’ll learn how to improve training outcomes by including an early stopping callback to prevent overfitting.\n",
    "\n",
    "When you're ready, run this next cell to set everything up!"
   ]
  },
  {
   "cell_type": "code",
   "execution_count": 1,
   "id": "2a717cf9",
   "metadata": {
    "execution": {
     "iopub.execute_input": "2022-07-27T12:13:50.530289Z",
     "iopub.status.busy": "2022-07-27T12:13:50.529094Z",
     "iopub.status.idle": "2022-07-27T12:13:50.571012Z",
     "shell.execute_reply": "2022-07-27T12:13:50.570074Z"
    },
    "papermill": {
     "duration": 0.051901,
     "end_time": "2022-07-27T12:13:50.573524",
     "exception": false,
     "start_time": "2022-07-27T12:13:50.521623",
     "status": "completed"
    },
    "tags": []
   },
   "outputs": [],
   "source": [
    "# Setup plotting\n",
    "import matplotlib.pyplot as plt\n",
    "plt.style.use('seaborn-whitegrid')\n",
    "# Set Matplotlib defaults\n",
    "plt.rc('figure', autolayout=True)\n",
    "plt.rc('axes', labelweight='bold', labelsize='large',\n",
    "       titleweight='bold', titlesize=18, titlepad=10)\n",
    "plt.rc('animation', html='html5')\n",
    "\n",
    "# Setup feedback system\n",
    "from learntools.core import binder\n",
    "binder.bind(globals())\n",
    "from learntools.deep_learning_intro.ex4 import *"
   ]
  },
  {
   "cell_type": "markdown",
   "id": "26477f64",
   "metadata": {
    "papermill": {
     "duration": 0.005976,
     "end_time": "2022-07-27T12:13:50.585253",
     "exception": false,
     "start_time": "2022-07-27T12:13:50.579277",
     "status": "completed"
    },
    "tags": []
   },
   "source": [
    "First load the *Spotify* dataset. Your task will be to predict the popularity of a song based on various audio features, like `'tempo'`, `'danceability'`, and `'mode'`."
   ]
  },
  {
   "cell_type": "code",
   "execution_count": 2,
   "id": "e4eec3ca",
   "metadata": {
    "execution": {
     "iopub.execute_input": "2022-07-27T12:13:50.599175Z",
     "iopub.status.busy": "2022-07-27T12:13:50.598815Z",
     "iopub.status.idle": "2022-07-27T12:13:57.221396Z",
     "shell.execute_reply": "2022-07-27T12:13:57.220264Z"
    },
    "papermill": {
     "duration": 6.633546,
     "end_time": "2022-07-27T12:13:57.224934",
     "exception": false,
     "start_time": "2022-07-27T12:13:50.591388",
     "status": "completed"
    },
    "tags": []
   },
   "outputs": [
    {
     "name": "stdout",
     "output_type": "stream",
     "text": [
      "Input shape: [18]\n"
     ]
    }
   ],
   "source": [
    "import pandas as pd\n",
    "from sklearn.preprocessing import StandardScaler, OneHotEncoder\n",
    "from sklearn.compose import make_column_transformer\n",
    "from sklearn.model_selection import GroupShuffleSplit\n",
    "\n",
    "from tensorflow import keras\n",
    "from tensorflow.keras import layers\n",
    "from tensorflow.keras import callbacks\n",
    "\n",
    "spotify = pd.read_csv('../input/dl-course-data/spotify.csv')\n",
    "\n",
    "X = spotify.copy().dropna()\n",
    "y = X.pop('track_popularity')\n",
    "artists = X['track_artist']\n",
    "\n",
    "features_num = ['danceability', 'energy', 'key', 'loudness', 'mode',\n",
    "                'speechiness', 'acousticness', 'instrumentalness',\n",
    "                'liveness', 'valence', 'tempo', 'duration_ms']\n",
    "features_cat = ['playlist_genre']\n",
    "\n",
    "preprocessor = make_column_transformer(\n",
    "    (StandardScaler(), features_num),\n",
    "    (OneHotEncoder(), features_cat),\n",
    ")\n",
    "\n",
    "# We'll do a \"grouped\" split to keep all of an artist's songs in one\n",
    "# split or the other. This is to help prevent signal leakage.\n",
    "def group_split(X, y, group, train_size=0.75):\n",
    "    splitter = GroupShuffleSplit(train_size=train_size)\n",
    "    train, test = next(splitter.split(X, y, groups=group))\n",
    "    return (X.iloc[train], X.iloc[test], y.iloc[train], y.iloc[test])\n",
    "\n",
    "X_train, X_valid, y_train, y_valid = group_split(X, y, artists)\n",
    "\n",
    "X_train = preprocessor.fit_transform(X_train)\n",
    "X_valid = preprocessor.transform(X_valid)\n",
    "y_train = y_train / 100 # popularity is on a scale 0-100, so this rescales to 0-1.\n",
    "y_valid = y_valid / 100\n",
    "\n",
    "input_shape = [X_train.shape[1]]\n",
    "print(\"Input shape: {}\".format(input_shape))"
   ]
  },
  {
   "cell_type": "markdown",
   "id": "1b08cbc3",
   "metadata": {
    "papermill": {
     "duration": 0.005445,
     "end_time": "2022-07-27T12:13:57.236787",
     "exception": false,
     "start_time": "2022-07-27T12:13:57.231342",
     "status": "completed"
    },
    "tags": []
   },
   "source": [
    "Let's start with the simplest network, a linear model. This model has low capacity.\n",
    "\n",
    "Run this next cell without any changes to train a linear model on the *Spotify* dataset."
   ]
  },
  {
   "cell_type": "code",
   "execution_count": 3,
   "id": "b1404726",
   "metadata": {
    "execution": {
     "iopub.execute_input": "2022-07-27T12:13:57.249305Z",
     "iopub.status.busy": "2022-07-27T12:13:57.248958Z",
     "iopub.status.idle": "2022-07-27T12:14:07.372339Z",
     "shell.execute_reply": "2022-07-27T12:14:07.371264Z"
    },
    "lines_to_next_cell": 0,
    "papermill": {
     "duration": 10.132309,
     "end_time": "2022-07-27T12:14:07.374505",
     "exception": false,
     "start_time": "2022-07-27T12:13:57.242196",
     "status": "completed"
    },
    "tags": []
   },
   "outputs": [
    {
     "name": "stderr",
     "output_type": "stream",
     "text": [
      "2022-07-27 12:13:57.337636: I tensorflow/stream_executor/cuda/cuda_gpu_executor.cc:937] successful NUMA node read from SysFS had negative value (-1), but there must be at least one NUMA node, so returning NUMA node zero\n",
      "2022-07-27 12:13:57.431327: I tensorflow/stream_executor/cuda/cuda_gpu_executor.cc:937] successful NUMA node read from SysFS had negative value (-1), but there must be at least one NUMA node, so returning NUMA node zero\n",
      "2022-07-27 12:13:57.432193: I tensorflow/stream_executor/cuda/cuda_gpu_executor.cc:937] successful NUMA node read from SysFS had negative value (-1), but there must be at least one NUMA node, so returning NUMA node zero\n",
      "2022-07-27 12:13:57.433573: I tensorflow/core/platform/cpu_feature_guard.cc:142] This TensorFlow binary is optimized with oneAPI Deep Neural Network Library (oneDNN) to use the following CPU instructions in performance-critical operations:  AVX2 AVX512F FMA\n",
      "To enable them in other operations, rebuild TensorFlow with the appropriate compiler flags.\n",
      "2022-07-27 12:13:57.434066: I tensorflow/stream_executor/cuda/cuda_gpu_executor.cc:937] successful NUMA node read from SysFS had negative value (-1), but there must be at least one NUMA node, so returning NUMA node zero\n",
      "2022-07-27 12:13:57.434924: I tensorflow/stream_executor/cuda/cuda_gpu_executor.cc:937] successful NUMA node read from SysFS had negative value (-1), but there must be at least one NUMA node, so returning NUMA node zero\n",
      "2022-07-27 12:13:57.435625: I tensorflow/stream_executor/cuda/cuda_gpu_executor.cc:937] successful NUMA node read from SysFS had negative value (-1), but there must be at least one NUMA node, so returning NUMA node zero\n",
      "2022-07-27 12:13:59.498522: I tensorflow/stream_executor/cuda/cuda_gpu_executor.cc:937] successful NUMA node read from SysFS had negative value (-1), but there must be at least one NUMA node, so returning NUMA node zero\n",
      "2022-07-27 12:13:59.499410: I tensorflow/stream_executor/cuda/cuda_gpu_executor.cc:937] successful NUMA node read from SysFS had negative value (-1), but there must be at least one NUMA node, so returning NUMA node zero\n",
      "2022-07-27 12:13:59.500203: I tensorflow/stream_executor/cuda/cuda_gpu_executor.cc:937] successful NUMA node read from SysFS had negative value (-1), but there must be at least one NUMA node, so returning NUMA node zero\n",
      "2022-07-27 12:13:59.500865: I tensorflow/core/common_runtime/gpu/gpu_device.cc:1510] Created device /job:localhost/replica:0/task:0/device:GPU:0 with 15403 MB memory:  -> device: 0, name: Tesla P100-PCIE-16GB, pci bus id: 0000:00:04.0, compute capability: 6.0\n",
      "2022-07-27 12:13:59.940614: I tensorflow/compiler/mlir/mlir_graph_optimization_pass.cc:185] None of the MLIR Optimization Passes are enabled (registered 2)\n"
     ]
    },
    {
     "name": "stdout",
     "output_type": "stream",
     "text": [
      "Minimum Validation Loss: 0.1945\n"
     ]
    },
    {
     "data": {
      "image/png": "[encoded data removed]",
      "text/plain": [
       "<Figure size 432x288 with 1 Axes>"
      ]
     },
     "metadata": {},
     "output_type": "display_data"
    }
   ],
   "source": [
    "model = keras.Sequential([\n",
    "    layers.Dense(1, input_shape=input_shape),\n",
    "])\n",
    "model.compile(\n",
    "    optimizer='adam',\n",
    "    loss='mae',\n",
    ")\n",
    "history = model.fit(\n",
    "    X_train, y_train,\n",
    "    validation_data=(X_valid, y_valid),\n",
    "    batch_size=512,\n",
    "    epochs=50,\n",
    "    verbose=0, # suppress output since we'll plot the curves\n",
    ")\n",
    "history_df = pd.DataFrame(history.history)\n",
    "history_df.loc[0:, ['loss', 'val_loss']].plot()\n",
    "print(\"Minimum Validation Loss: {:0.4f}\".format(history_df['val_loss'].min()));"
   ]
  },
  {
   "cell_type": "markdown",
   "id": "b4820eb2",
   "metadata": {
    "papermill": {
     "duration": 0.005318,
     "end_time": "2022-07-27T12:14:07.385531",
     "exception": false,
     "start_time": "2022-07-27T12:14:07.380213",
     "status": "completed"
    },
    "tags": []
   },
   "source": [
    "It's not uncommon for the curves to follow a \"hockey stick\" pattern like you see here. This makes the final part of training hard to see, so let's start at epoch 10 instead:"
   ]
  },
  {
   "cell_type": "code",
   "execution_count": 4,
   "id": "9253e75a",
   "metadata": {
    "execution": {
     "iopub.execute_input": "2022-07-27T12:14:07.399495Z",
     "iopub.status.busy": "2022-07-27T12:14:07.397904Z",
     "iopub.status.idle": "2022-07-27T12:14:07.645688Z",
     "shell.execute_reply": "2022-07-27T12:14:07.644514Z"
    },
    "papermill": {
     "duration": 0.257323,
     "end_time": "2022-07-27T12:14:07.648464",
     "exception": false,
     "start_time": "2022-07-27T12:14:07.391141",
     "status": "completed"
    },
    "tags": []
   },
   "outputs": [
    {
     "name": "stdout",
     "output_type": "stream",
     "text": [
      "Minimum Validation Loss: 0.1945\n"
     ]
    },
    {
     "data": {
      "image/png": "[encoded data removed]",
      "text/plain": [
       "<Figure size 432x288 with 1 Axes>"
      ]
     },
     "metadata": {},
     "output_type": "display_data"
    }
   ],
   "source": [
    "# Start the plot at epoch 10\n",
    "history_df.loc[10:, ['loss', 'val_loss']].plot()\n",
    "print(\"Minimum Validation Loss: {:0.4f}\".format(history_df['val_loss'].min()));"
   ]
  },
  {
   "cell_type": "markdown",
   "id": "055f7165",
   "metadata": {
    "papermill": {
     "duration": 0.006152,
     "end_time": "2022-07-27T12:14:07.661007",
     "exception": false,
     "start_time": "2022-07-27T12:14:07.654855",
     "status": "completed"
    },
    "tags": []
   },
   "source": [
    "# 1) Evaluate Baseline\n",
    "\n",
    "What do you think? Would you say this model is underfitting, overfitting, just right?"
   ]
  },
  {
   "cell_type": "code",
   "execution_count": 5,
   "id": "7071b026",
   "metadata": {
    "execution": {
     "iopub.execute_input": "2022-07-27T12:14:07.676630Z",
     "iopub.status.busy": "2022-07-27T12:14:07.674682Z",
     "iopub.status.idle": "2022-07-27T12:14:07.684720Z",
     "shell.execute_reply": "2022-07-27T12:14:07.683539Z"
    },
    "papermill": {
     "duration": 0.020545,
     "end_time": "2022-07-27T12:14:07.687849",
     "exception": false,
     "start_time": "2022-07-27T12:14:07.667304",
     "status": "completed"
    },
    "tags": []
   },
   "outputs": [
    {
     "data": {
      "application/javascript": [
       "parent.postMessage({\"jupyterEvent\": \"custom.exercise_interaction\", \"data\": {\"outcomeType\": 1, \"valueTowardsCompletion\": 0.25, \"interactionType\": 1, \"questionType\": 4, \"questionId\": \"1_Q1\", \"learnToolsVersion\": \"0.3.4\", \"failureMessage\": \"\", \"exceptionClass\": \"\", \"trace\": \"\"}}, \"*\")"
      ],
      "text/plain": [
       "<IPython.core.display.Javascript object>"
      ]
     },
     "metadata": {},
     "output_type": "display_data"
    },
    {
     "data": {
      "text/markdown": [
       "<span style=\"color:#33cc33\">Correct:</span> \n",
       "\n",
       "The gap between these curves is quite small and the validation loss never increases, so it's more likely that the network is underfitting than overfitting. It would be worth experimenting with more capacity to see if that's the case."
      ],
      "text/plain": [
       "Correct: \n",
       "\n",
       "The gap between these curves is quite small and the validation loss never increases, so it's more likely that the network is underfitting than overfitting. It would be worth experimenting with more capacity to see if that's the case."
      ]
     },
     "metadata": {},
     "output_type": "display_data"
    }
   ],
   "source": [
    "# View the solution (Run this cell to receive credit!)\n",
    "q_1.check()"
   ]
  },
  {
   "cell_type": "markdown",
   "id": "d83fef4a",
   "metadata": {
    "papermill": {
     "duration": 0.006272,
     "end_time": "2022-07-27T12:14:07.702193",
     "exception": false,
     "start_time": "2022-07-27T12:14:07.695921",
     "status": "completed"
    },
    "tags": []
   },
   "source": [
    "Now let's add some capacity to our network. We'll add three hidden layers with 128 units each. Run the next cell to train the network and see the learning curves."
   ]
  },
  {
   "cell_type": "code",
   "execution_count": 6,
   "id": "ae16c3c1",
   "metadata": {
    "execution": {
     "iopub.execute_input": "2022-07-27T12:14:07.718203Z",
     "iopub.status.busy": "2022-07-27T12:14:07.716125Z",
     "iopub.status.idle": "2022-07-27T12:14:18.533370Z",
     "shell.execute_reply": "2022-07-27T12:14:18.532150Z"
    },
    "papermill": {
     "duration": 10.82738,
     "end_time": "2022-07-27T12:14:18.536028",
     "exception": false,
     "start_time": "2022-07-27T12:14:07.708648",
     "status": "completed"
    },
    "tags": []
   },
   "outputs": [
    {
     "name": "stdout",
     "output_type": "stream",
     "text": [
      "Epoch 1/50\n",
      "49/49 [==============================] - 1s 6ms/step - loss: 0.2417 - val_loss: 0.2044\n",
      "Epoch 2/50\n",
      "49/49 [==============================] - 0s 3ms/step - loss: 0.2013 - val_loss: 0.1991\n",
      "Epoch 3/50\n",
      "49/49 [==============================] - 0s 3ms/step - loss: 0.1963 - val_loss: 0.1981\n",
      "Epoch 4/50\n",
      "49/49 [==============================] - 0s 3ms/step - loss: 0.1935 - val_loss: 0.1951\n",
      "Epoch 5/50\n",
      "49/49 [==============================] - 0s 4ms/step - loss: 0.1911 - val_loss: 0.1956\n",
      "Epoch 6/50\n",
      "49/49 [==============================] - 0s 3ms/step - loss: 0.1897 - val_loss: 0.1950\n",
      "Epoch 7/50\n",
      "49/49 [==============================] - 0s 3ms/step - loss: 0.1884 - val_loss: 0.1945\n",
      "Epoch 8/50\n",
      "49/49 [==============================] - 0s 4ms/step - loss: 0.1874 - val_loss: 0.1959\n",
      "Epoch 9/50\n",
      "49/49 [==============================] - 0s 4ms/step - loss: 0.1862 - val_loss: 0.1944\n",
      "Epoch 10/50\n",
      "49/49 [==============================] - 0s 3ms/step - loss: 0.1861 - val_loss: 0.1948\n",
      "Epoch 11/50\n",
      "49/49 [==============================] - 0s 3ms/step - loss: 0.1844 - val_loss: 0.1945\n",
      "Epoch 12/50\n",
      "49/49 [==============================] - 0s 3ms/step - loss: 0.1835 - val_loss: 0.1947\n",
      "Epoch 13/50\n",
      "49/49 [==============================] - 0s 3ms/step - loss: 0.1826 - val_loss: 0.1949\n",
      "Epoch 14/50\n",
      "49/49 [==============================] - 0s 3ms/step - loss: 0.1823 - val_loss: 0.1949\n",
      "Epoch 15/50\n",
      "49/49 [==============================] - 0s 3ms/step - loss: 0.1822 - val_loss: 0.1956\n",
      "Epoch 16/50\n",
      "49/49 [==============================] - 0s 3ms/step - loss: 0.1819 - val_loss: 0.1976\n",
      "Epoch 17/50\n",
      "49/49 [==============================] - 0s 3ms/step - loss: 0.1802 - val_loss: 0.1953\n",
      "Epoch 18/50\n",
      "49/49 [==============================] - 0s 3ms/step - loss: 0.1802 - val_loss: 0.1948\n",
      "Epoch 19/50\n",
      "49/49 [==============================] - 0s 3ms/step - loss: 0.1794 - val_loss: 0.1957\n",
      "Epoch 20/50\n",
      "49/49 [==============================] - 0s 3ms/step - loss: 0.1783 - val_loss: 0.1966\n",
      "Epoch 21/50\n",
      "49/49 [==============================] - 0s 3ms/step - loss: 0.1775 - val_loss: 0.1962\n",
      "Epoch 22/50\n",
      "49/49 [==============================] - 0s 3ms/step - loss: 0.1779 - val_loss: 0.1969\n",
      "Epoch 23/50\n",
      "49/49 [==============================] - 0s 3ms/step - loss: 0.1770 - val_loss: 0.1973\n",
      "Epoch 24/50\n",
      "49/49 [==============================] - 0s 3ms/step - loss: 0.1761 - val_loss: 0.1976\n",
      "Epoch 25/50\n",
      "49/49 [==============================] - 0s 3ms/step - loss: 0.1753 - val_loss: 0.1998\n",
      "Epoch 26/50\n",
      "49/49 [==============================] - 0s 3ms/step - loss: 0.1752 - val_loss: 0.1974\n",
      "Epoch 27/50\n",
      "49/49 [==============================] - 0s 3ms/step - loss: 0.1745 - val_loss: 0.1975\n",
      "Epoch 28/50\n",
      "49/49 [==============================] - 0s 3ms/step - loss: 0.1744 - val_loss: 0.1989\n",
      "Epoch 29/50\n",
      "49/49 [==============================] - 0s 3ms/step - loss: 0.1738 - val_loss: 0.1981\n",
      "Epoch 30/50\n",
      "49/49 [==============================] - 0s 3ms/step - loss: 0.1730 - val_loss: 0.1989\n",
      "Epoch 31/50\n",
      "49/49 [==============================] - 0s 4ms/step - loss: 0.1726 - val_loss: 0.1998\n",
      "Epoch 32/50\n",
      "49/49 [==============================] - 0s 3ms/step - loss: 0.1722 - val_loss: 0.1997\n",
      "Epoch 33/50\n",
      "49/49 [==============================] - 0s 3ms/step - loss: 0.1711 - val_loss: 0.2000\n",
      "Epoch 34/50\n",
      "49/49 [==============================] - 0s 3ms/step - loss: 0.1719 - val_loss: 0.1989\n",
      "Epoch 35/50\n",
      "49/49 [==============================] - 0s 4ms/step - loss: 0.1714 - val_loss: 0.2005\n",
      "Epoch 36/50\n",
      "49/49 [==============================] - 0s 3ms/step - loss: 0.1704 - val_loss: 0.1997\n",
      "Epoch 37/50\n",
      "49/49 [==============================] - 0s 3ms/step - loss: 0.1708 - val_loss: 0.2051\n",
      "Epoch 38/50\n",
      "49/49 [==============================] - 0s 3ms/step - loss: 0.1703 - val_loss: 0.1998\n",
      "Epoch 39/50\n",
      "49/49 [==============================] - 0s 3ms/step - loss: 0.1687 - val_loss: 0.2003\n",
      "Epoch 40/50\n",
      "49/49 [==============================] - 0s 3ms/step - loss: 0.1682 - val_loss: 0.2011\n",
      "Epoch 41/50\n",
      "49/49 [==============================] - 0s 3ms/step - loss: 0.1679 - val_loss: 0.2023\n",
      "Epoch 42/50\n",
      "49/49 [==============================] - 0s 3ms/step - loss: 0.1678 - val_loss: 0.2020\n",
      "Epoch 43/50\n",
      "49/49 [==============================] - 0s 3ms/step - loss: 0.1671 - val_loss: 0.2017\n",
      "Epoch 44/50\n",
      "49/49 [==============================] - 0s 3ms/step - loss: 0.1668 - val_loss: 0.2018\n",
      "Epoch 45/50\n",
      "49/49 [==============================] - 0s 3ms/step - loss: 0.1662 - val_loss: 0.2038\n",
      "Epoch 46/50\n",
      "49/49 [==============================] - 0s 3ms/step - loss: 0.1658 - val_loss: 0.2025\n",
      "Epoch 47/50\n",
      "49/49 [==============================] - 0s 3ms/step - loss: 0.1658 - val_loss: 0.2022\n",
      "Epoch 48/50\n",
      "49/49 [==============================] - 0s 3ms/step - loss: 0.1648 - val_loss: 0.2021\n",
      "Epoch 49/50\n",
      "49/49 [==============================] - 0s 6ms/step - loss: 0.1652 - val_loss: 0.2016\n",
      "Epoch 50/50\n",
      "49/49 [==============================] - 0s 5ms/step - loss: 0.1642 - val_loss: 0.2021\n",
      "Minimum Validation Loss: 0.1944\n"
     ]
    },
    {
     "data": {
      "image/png": "[encoded data removed]",
      "text/plain": [
       "<Figure size 432x288 with 1 Axes>"
      ]
     },
     "metadata": {},
     "output_type": "display_data"
    }
   ],
   "source": [
    "model = keras.Sequential([\n",
    "    layers.Dense(128, activation='relu', input_shape=input_shape),\n",
    "    layers.Dense(64, activation='relu'),\n",
    "    layers.Dense(1)\n",
    "])\n",
    "model.compile(\n",
    "    optimizer='adam',\n",
    "    loss='mae',\n",
    ")\n",
    "history = model.fit(\n",
    "    X_train, y_train,\n",
    "    validation_data=(X_valid, y_valid),\n",
    "    batch_size=512,\n",
    "    epochs=50,\n",
    ")\n",
    "history_df = pd.DataFrame(history.history)\n",
    "history_df.loc[:, ['loss', 'val_loss']].plot()\n",
    "print(\"Minimum Validation Loss: {:0.4f}\".format(history_df['val_loss'].min()));"
   ]
  },
  {
   "cell_type": "markdown",
   "id": "6512d145",
   "metadata": {
    "papermill": {
     "duration": 0.017611,
     "end_time": "2022-07-27T12:14:18.571995",
     "exception": false,
     "start_time": "2022-07-27T12:14:18.554384",
     "status": "completed"
    },
    "tags": []
   },
   "source": [
    "# 2) Add Capacity\n",
    "\n",
    "What is your evaluation of these curves? Underfitting, overfitting, just right?"
   ]
  },
  {
   "cell_type": "code",
   "execution_count": 7,
   "id": "b0a74320",
   "metadata": {
    "execution": {
     "iopub.execute_input": "2022-07-27T12:14:18.611623Z",
     "iopub.status.busy": "2022-07-27T12:14:18.610537Z",
     "iopub.status.idle": "2022-07-27T12:14:18.620710Z",
     "shell.execute_reply": "2022-07-27T12:14:18.619614Z"
    },
    "papermill": {
     "duration": 0.031494,
     "end_time": "2022-07-27T12:14:18.622661",
     "exception": false,
     "start_time": "2022-07-27T12:14:18.591167",
     "status": "completed"
    },
    "tags": []
   },
   "outputs": [
    {
     "data": {
      "application/javascript": [
       "parent.postMessage({\"jupyterEvent\": \"custom.exercise_interaction\", \"data\": {\"outcomeType\": 1, \"valueTowardsCompletion\": 0.25, \"interactionType\": 1, \"questionType\": 4, \"questionId\": \"2_Q2\", \"learnToolsVersion\": \"0.3.4\", \"failureMessage\": \"\", \"exceptionClass\": \"\", \"trace\": \"\"}}, \"*\")"
      ],
      "text/plain": [
       "<IPython.core.display.Javascript object>"
      ]
     },
     "metadata": {},
     "output_type": "display_data"
    },
    {
     "data": {
      "text/markdown": [
       "<span style=\"color:#33cc33\">Correct:</span> \n",
       "\n",
       "Now the validation loss begins to rise very early, while the training loss continues to decrease. This indicates that the network has begun to overfit. At this point, we would need to try something to prevent it, either by reducing the number of units or through a method like early stopping. (We'll see another in the next lesson!)"
      ],
      "text/plain": [
       "Correct: \n",
       "\n",
       "Now the validation loss begins to rise very early, while the training loss continues to decrease. This indicates that the network has begun to overfit. At this point, we would need to try something to prevent it, either by reducing the number of units or through a method like early stopping. (We'll see another in the next lesson!)"
      ]
     },
     "metadata": {},
     "output_type": "display_data"
    }
   ],
   "source": [
    "# View the solution (Run this cell to receive credit!)\n",
    "q_2.check()"
   ]
  },
  {
   "cell_type": "markdown",
   "id": "24f53722",
   "metadata": {
    "papermill": {
     "duration": 0.01794,
     "end_time": "2022-07-27T12:14:18.658436",
     "exception": false,
     "start_time": "2022-07-27T12:14:18.640496",
     "status": "completed"
    },
    "tags": []
   },
   "source": [
    "# 3) Define Early Stopping Callback\n",
    "\n",
    "Now define an early stopping callback that waits 5 epochs (`patience'`) for a change in validation loss of at least `0.001` (`min_delta`) and keeps the weights with the best loss (`restore_best_weights`)."
   ]
  },
  {
   "cell_type": "code",
   "execution_count": 8,
   "id": "fdc2f483",
   "metadata": {
    "execution": {
     "iopub.execute_input": "2022-07-27T12:14:18.695717Z",
     "iopub.status.busy": "2022-07-27T12:14:18.695357Z",
     "iopub.status.idle": "2022-07-27T12:14:18.705054Z",
     "shell.execute_reply": "2022-07-27T12:14:18.703724Z"
    },
    "lines_to_next_cell": 0,
    "papermill": {
     "duration": 0.032543,
     "end_time": "2022-07-27T12:14:18.709008",
     "exception": false,
     "start_time": "2022-07-27T12:14:18.676465",
     "status": "completed"
    },
    "tags": []
   },
   "outputs": [
    {
     "data": {
      "application/javascript": [
       "parent.postMessage({\"jupyterEvent\": \"custom.exercise_interaction\", \"data\": {\"outcomeType\": 1, \"valueTowardsCompletion\": 0.25, \"interactionType\": 1, \"questionType\": 2, \"questionId\": \"3_Q3\", \"learnToolsVersion\": \"0.3.4\", \"failureMessage\": \"\", \"exceptionClass\": \"\", \"trace\": \"\"}}, \"*\")"
      ],
      "text/plain": [
       "<IPython.core.display.Javascript object>"
      ]
     },
     "metadata": {},
     "output_type": "display_data"
    },
    {
     "data": {
      "text/markdown": [
       "<span style=\"color:#33cc33\">Correct</span>"
      ],
      "text/plain": [
       "Correct"
      ]
     },
     "metadata": {},
     "output_type": "display_data"
    }
   ],
   "source": [
    "from tensorflow.keras import callbacks\n",
    "\n",
    "# YOUR CODE HERE: define an early stopping callback\n",
    "\n",
    "early_stopping = callbacks.EarlyStopping(\n",
    "    min_delta=0.001, # minimium amount of change to count as an improvement\n",
    "    patience=5, # how many epochs to wait before stopping\n",
    "    restore_best_weights=True,\n",
    ")\n",
    "# Check your answer\n",
    "q_3.check()"
   ]
  },
  {
   "cell_type": "code",
   "execution_count": 9,
   "id": "712327c4",
   "metadata": {
    "execution": {
     "iopub.execute_input": "2022-07-27T12:14:18.747590Z",
     "iopub.status.busy": "2022-07-27T12:14:18.747256Z",
     "iopub.status.idle": "2022-07-27T12:14:18.751629Z",
     "shell.execute_reply": "2022-07-27T12:14:18.750478Z"
    },
    "papermill": {
     "duration": 0.026128,
     "end_time": "2022-07-27T12:14:18.754232",
     "exception": false,
     "start_time": "2022-07-27T12:14:18.728104",
     "status": "completed"
    },
    "tags": []
   },
   "outputs": [],
   "source": [
    "# Lines below will give you a hint or solution code\n",
    "#q_3.hint()\n",
    "#q_3.solution()"
   ]
  },
  {
   "cell_type": "markdown",
   "id": "b3e0ab0a",
   "metadata": {
    "papermill": {
     "duration": 0.018244,
     "end_time": "2022-07-27T12:14:18.790784",
     "exception": false,
     "start_time": "2022-07-27T12:14:18.772540",
     "status": "completed"
    },
    "tags": []
   },
   "source": [
    "Now run this cell to train the model and get the learning curves. Notice the `callbacks` argument in `model.fit`."
   ]
  },
  {
   "cell_type": "code",
   "execution_count": 10,
   "id": "b6f9ebdb",
   "metadata": {
    "execution": {
     "iopub.execute_input": "2022-07-27T12:14:18.828118Z",
     "iopub.status.busy": "2022-07-27T12:14:18.827756Z",
     "iopub.status.idle": "2022-07-27T12:14:22.018678Z",
     "shell.execute_reply": "2022-07-27T12:14:22.017599Z"
    },
    "papermill": {
     "duration": 3.212436,
     "end_time": "2022-07-27T12:14:22.020877",
     "exception": false,
     "start_time": "2022-07-27T12:14:18.808441",
     "status": "completed"
    },
    "tags": []
   },
   "outputs": [
    {
     "name": "stdout",
     "output_type": "stream",
     "text": [
      "Epoch 1/50\n",
      "49/49 [==============================] - 1s 5ms/step - loss: 0.2515 - val_loss: 0.2081\n",
      "Epoch 2/50\n",
      "49/49 [==============================] - 0s 3ms/step - loss: 0.2011 - val_loss: 0.2007\n",
      "Epoch 3/50\n",
      "49/49 [==============================] - 0s 3ms/step - loss: 0.1960 - val_loss: 0.1979\n",
      "Epoch 4/50\n",
      "49/49 [==============================] - 0s 3ms/step - loss: 0.1927 - val_loss: 0.1963\n",
      "Epoch 5/50\n",
      "49/49 [==============================] - 0s 3ms/step - loss: 0.1911 - val_loss: 0.1960\n",
      "Epoch 6/50\n",
      "49/49 [==============================] - 0s 3ms/step - loss: 0.1897 - val_loss: 0.1954\n",
      "Epoch 7/50\n",
      "49/49 [==============================] - 0s 3ms/step - loss: 0.1882 - val_loss: 0.1950\n",
      "Epoch 8/50\n",
      "49/49 [==============================] - 0s 4ms/step - loss: 0.1871 - val_loss: 0.1957\n",
      "Epoch 9/50\n",
      "49/49 [==============================] - 0s 4ms/step - loss: 0.1858 - val_loss: 0.1964\n",
      "Epoch 10/50\n",
      "49/49 [==============================] - 0s 6ms/step - loss: 0.1850 - val_loss: 0.1958\n",
      "Epoch 11/50\n",
      "49/49 [==============================] - 0s 5ms/step - loss: 0.1843 - val_loss: 0.1956\n",
      "Epoch 12/50\n",
      "49/49 [==============================] - 0s 5ms/step - loss: 0.1841 - val_loss: 0.1957\n",
      "Minimum Validation Loss: 0.1950\n"
     ]
    },
    {
     "data": {
      "image/png": "[encoded data removed]",
      "text/plain": [
       "<Figure size 432x288 with 1 Axes>"
      ]
     },
     "metadata": {},
     "output_type": "display_data"
    }
   ],
   "source": [
    "model = keras.Sequential([\n",
    "    layers.Dense(128, activation='relu', input_shape=input_shape),\n",
    "    layers.Dense(64, activation='relu'),    \n",
    "    layers.Dense(1)\n",
    "])\n",
    "model.compile(\n",
    "    optimizer='adam',\n",
    "    loss='mae',\n",
    ")\n",
    "history = model.fit(\n",
    "    X_train, y_train,\n",
    "    validation_data=(X_valid, y_valid),\n",
    "    batch_size=512,\n",
    "    epochs=50,\n",
    "    callbacks=[early_stopping]\n",
    ")\n",
    "history_df = pd.DataFrame(history.history)\n",
    "history_df.loc[:, ['loss', 'val_loss']].plot()\n",
    "print(\"Minimum Validation Loss: {:0.4f}\".format(history_df['val_loss'].min()));"
   ]
  },
  {
   "cell_type": "markdown",
   "id": "7a827851",
   "metadata": {
    "papermill": {
     "duration": 0.022423,
     "end_time": "2022-07-27T12:14:22.065356",
     "exception": false,
     "start_time": "2022-07-27T12:14:22.042933",
     "status": "completed"
    },
    "tags": []
   },
   "source": [
    "# 4) Train and Interpret\n",
    "\n",
    "Was this an improvement compared to training without early stopping?"
   ]
  },
  {
   "cell_type": "code",
   "execution_count": 11,
   "id": "5a2a2411",
   "metadata": {
    "execution": {
     "iopub.execute_input": "2022-07-27T12:14:22.110780Z",
     "iopub.status.busy": "2022-07-27T12:14:22.110342Z",
     "iopub.status.idle": "2022-07-27T12:14:22.118595Z",
     "shell.execute_reply": "2022-07-27T12:14:22.117588Z"
    },
    "papermill": {
     "duration": 0.034717,
     "end_time": "2022-07-27T12:14:22.121875",
     "exception": false,
     "start_time": "2022-07-27T12:14:22.087158",
     "status": "completed"
    },
    "tags": []
   },
   "outputs": [
    {
     "data": {
      "application/javascript": [
       "parent.postMessage({\"jupyterEvent\": \"custom.exercise_interaction\", \"data\": {\"outcomeType\": 1, \"valueTowardsCompletion\": 0.25, \"interactionType\": 1, \"questionType\": 4, \"questionId\": \"4_Q4\", \"learnToolsVersion\": \"0.3.4\", \"failureMessage\": \"\", \"exceptionClass\": \"\", \"trace\": \"\"}}, \"*\")"
      ],
      "text/plain": [
       "<IPython.core.display.Javascript object>"
      ]
     },
     "metadata": {},
     "output_type": "display_data"
    },
    {
     "data": {
      "text/markdown": [
       "<span style=\"color:#33cc33\">Correct:</span> \n",
       "\n",
       "The early stopping callback did stop the training once the network began overfitting. Moreover, by including `restore_best_weights` we still get to keep the model where validation loss was lowest."
      ],
      "text/plain": [
       "Correct: \n",
       "\n",
       "The early stopping callback did stop the training once the network began overfitting. Moreover, by including `restore_best_weights` we still get to keep the model where validation loss was lowest."
      ]
     },
     "metadata": {},
     "output_type": "display_data"
    }
   ],
   "source": [
    "# View the solution (Run this cell to receive credit!)\n",
    "q_4.check()"
   ]
  },
  {
   "cell_type": "markdown",
   "id": "b66b1295",
   "metadata": {
    "papermill": {
     "duration": 0.021775,
     "end_time": "2022-07-27T12:14:22.165266",
     "exception": false,
     "start_time": "2022-07-27T12:14:22.143491",
     "status": "completed"
    },
    "tags": []
   },
   "source": [
    "If you like, try experimenting with `patience` and `min_delta` to see what difference it might make.\n",
    "\n",
    "# Keep Going #\n",
    "\n",
    "Move on to [**learn about a couple of special layers**](https://www.kaggle.com/ryanholbrook/dropout-and-batch-normalization): batch normalization and dropout."
   ]
  },
  {
   "cell_type": "markdown",
   "id": "00e8177a",
   "metadata": {
    "papermill": {
     "duration": 0.021557,
     "end_time": "2022-07-27T12:14:22.209303",
     "exception": false,
     "start_time": "2022-07-27T12:14:22.187746",
     "status": "completed"
    },
    "tags": []
   },
   "source": [
    "---\n",
    "\n",
    "\n",
    "\n",
    "\n",
    "*Have questions or comments? Visit the [course discussion forum](https://www.kaggle.com/learn/intro-to-deep-learning/discussion) to chat with other learners.*"
   ]
  }
 ],
 "metadata": {
  "kernelspec": {
   "display_name": "Python 3",
   "language": "python",
   "name": "python3"
  },
  "language_info": {
   "codemirror_mode": {
    "name": "ipython",
    "version": 3
   },
   "file_extension": ".py",
   "mimetype": "text/x-python",
   "name": "python",
   "nbconvert_exporter": "python",
   "pygments_lexer": "ipython3",
   "version": "3.7.12"
  },
  "papermill": {
   "default_parameters": {},
   "duration": 44.37349,
   "end_time": "2022-07-27T12:14:25.611189",
   "environment_variables": {},
   "exception": null,
   "input_path": "__notebook__.ipynb",
   "output_path": "__notebook__.ipynb",
   "parameters": {},
   "start_time": "2022-07-27T12:13:41.237699",
   "version": "2.3.4"
  }
 },
 "nbformat": 4,
 "nbformat_minor": 5
}
